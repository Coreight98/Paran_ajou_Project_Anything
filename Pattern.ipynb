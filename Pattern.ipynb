{
  "nbformat": 4,
  "nbformat_minor": 0,
  "metadata": {
    "colab": {
      "name": "Pattern.ipynb",
      "provenance": [],
      "collapsed_sections": [],
      "authorship_tag": "ABX9TyMWlZKTAAhpCySHEYEMnDQO",
      "include_colab_link": true
    },
    "kernelspec": {
      "name": "python3",
      "display_name": "Python 3"
    },
    "language_info": {
      "name": "python"
    },
    "accelerator": "GPU"
  },
  "cells": [
    {
      "cell_type": "markdown",
      "metadata": {
        "id": "view-in-github",
        "colab_type": "text"
      },
      "source": [
        "<a href=\"https://colab.research.google.com/github/Coreight98/Paran_ajou_Project_Anything/blob/main/Pattern.ipynb\" target=\"_parent\"><img src=\"https://colab.research.google.com/assets/colab-badge.svg\" alt=\"Open In Colab\"/></a>"
      ]
    },
    {
      "cell_type": "code",
      "metadata": {
        "id": "slFiKUw45G8H"
      },
      "source": [
        "## 2021 AJOU_UNIV 파란학기 Anything 패턴 이미지 처리 모델 ##"
      ],
      "execution_count": null,
      "outputs": []
    },
    {
      "cell_type": "code",
      "metadata": {
        "colab": {
          "base_uri": "https://localhost:8080/"
        },
        "id": "2D0jeOcA5V2l",
        "outputId": "79d85eb7-5c2e-4215-82cb-7662487b6f89"
      },
      "source": [
        "from google.colab import drive\n",
        "drive.mount('/content/drive')"
      ],
      "execution_count": null,
      "outputs": [
        {
          "output_type": "stream",
          "text": [
            "Mounted at /content/drive\n"
          ],
          "name": "stdout"
        }
      ]
    },
    {
      "cell_type": "code",
      "metadata": {
        "id": "xmM2Jfc85Xvp"
      },
      "source": [
        "import torch\n",
        "import torchvision\n",
        "import torchvision.transforms as transforms\n",
        "from torch.utils.data import Dataset, DataLoader\n",
        "import torch.nn as nn\n",
        "import torch.nn.functional as F\n",
        "import torch.optim as optim\n",
        "import matplotlib.pyplot as plt\n",
        "import numpy as np\n",
        "import os\n",
        "from PIL import Image\n",
        "import PIL\n",
        "import time\n",
        "from sklearn.neighbors import KNeighborsClassifier"
      ],
      "execution_count": null,
      "outputs": []
    },
    {
      "cell_type": "code",
      "metadata": {
        "colab": {
          "base_uri": "https://localhost:8080/",
          "height": 894
        },
        "id": "u4dgLeWb5ccK",
        "outputId": "3e8a88db-d690-425e-943d-c827eb83d7bb"
      },
      "source": [
        "train_location = './drive/MyDrive/data/pattern/'\n",
        "# test_location = './drive/MyDrive/data/img/val/'\n",
        "\n",
        "class CNN(torch.nn.Module):\n",
        "\n",
        "    def __init__(self):\n",
        "        super(CNN, self).__init__()\n",
        "        # 첫번째층\n",
        "        self.layer1 = torch.nn.Sequential(\n",
        "            torch.nn.Conv2d(1, 8, kernel_size=3,stride=1, padding=1),\n",
        "            torch.nn.ReLU(),\n",
        "            torch.nn.MaxPool2d(kernel_size=2, stride=2))\n",
        "\n",
        "        # 두번째층\n",
        "        self.layer2 = torch.nn.Sequential(\n",
        "            torch.nn.Conv2d(8, 16, kernel_size=3,stride=1, padding=1),\n",
        "            torch.nn.ReLU(),\n",
        "            torch.nn.MaxPool2d(kernel_size=2, stride=2))\n",
        "\n",
        "        # 전결합층 \n",
        "        self.fc = torch.nn.Linear(50176, 5, bias=True)\n",
        "\n",
        "        # 전결합층 한정으로 가중치 초기화\n",
        "        torch.nn.init.xavier_uniform_(self.fc.weight)\n",
        "\n",
        "    def forward(self, x):\n",
        "        out = self.layer1(x)\n",
        "        out = self.layer2(out)\n",
        "        out = out.view(out.size(0), -1)   # 전결합층을 위해서 Flatten\n",
        "        out = self.fc(out)\n",
        "        return out\n",
        "\n",
        "class PatternDataset():\n",
        "    def __init__(self, image, mode, transforms):\n",
        "        super().__init__()\n",
        "        self.image = image\n",
        "        self.mode = mode\n",
        "        self.transforms = transforms\n",
        "\n",
        "    def __getitem__(self, index):\n",
        "        image_name = self.image[index]\n",
        "        image = Image.open(train_location + image_name)\n",
        "        image = image.resize((224,224))\n",
        "\n",
        "        if self.mode == 'train' :\n",
        "            image = self.transforms(image)\n",
        "            label=1\n",
        "            return image,label\n",
        "        elif self.mode == 'test':\n",
        "            image = self.transforms(image)\n",
        "            label=1\n",
        "            return image, label\n",
        "\n",
        "    def __len__(self):\n",
        "        return len(self.image)\n",
        "\n",
        "def imshow(img):\n",
        "    img = img / 2 + 0.5\n",
        "    npimg = img.numpy()\n",
        "    plt.imshow(np.transpose(npimg, (1, 2, 0)))\n",
        "    plt.show()\n",
        "\n",
        "if __name__ == '__main__':\n",
        "    #데이터 셋 불러오고 정규화\n",
        "    transform = transforms.Compose(\n",
        "        [transforms.Grayscale(num_output_channels=1),\n",
        "         transforms.ToTensor(),\n",
        "          transforms.Normalize((0.5),(0.5))\n",
        "          ]\n",
        "    )\n",
        "\n",
        "    train_images = os.listdir(train_location)\n",
        "    # test_images = os.listdir(test_location)\n",
        "    print(\"--Train Images--\")\n",
        "    print(\"Num of All Images: \", len(train_images))\n",
        "\n",
        "    # 데이터 셋 생성\n",
        "    train_dataset = PatternDataset(train_images, mode='train', transforms=transform)\n",
        "    trainloader = torch.utils.data.DataLoader(train_dataset, batch_size=4, shuffle=True, num_workers=0)\n",
        "\n",
        "    net = CNN()\n",
        "    criterion = nn.CrossEntropyLoss()\n",
        "    optimizer = optim.SGD(net.parameters(), lr=0.001, momentum=0.9)\n",
        "    device = 'cuda' if torch.cuda.is_available() else 'cpu'\n",
        "    print (device,\"로 학습\")\n",
        "\n",
        "    # 신경망 학습하기\n",
        "    # for epoch in range(2):\n",
        "    #    running_loss = 0.0\n",
        "    #    for i, data in enumerate(trainloader,0):\n",
        "    #        inputs, labels = data  # data입력\n",
        "    #        optimizer.zero_grad()  # gradient 매개변수를 0으로 만듬\n",
        "    #        # 순전파 + 역전파 + 최적화\n",
        "    #        outputs = net(inputs)\n",
        "    #        loss = criterion(outputs, labels)\n",
        "    #        loss.backward()\n",
        "    #        optimizer.step()\n",
        "    #        #통계출력\n",
        "    #        running_loss += loss.item()\n",
        "    #        if i % 200 == 199:\n",
        "    #            print('[%d, %5d] loss: %.3f' % (epoch + 1, i + 1, running_loss / 2000))\n",
        "    #            running_loss = 0.0\n",
        "    # print('Finished Training')\n",
        "    PATH = './drive/MyDrive/data/Pattern_net.pth'\n",
        "    # torch.save(net, PATH)\n",
        "\n",
        "    ######################KNN##################################################\n",
        "    dataiter = iter(trainloader)\n",
        "    images, labels = dataiter.next()\n",
        "\n",
        "    net = torch.load(PATH)\n",
        "    net.eval()\n",
        "\n",
        "    #Input 사진\n",
        "    # from IPython.display import Image\n",
        "    # img=Image('./drive/MyDrive/data/pattern/0001.jpg')\n",
        "    # display(img)\n",
        "\n",
        "    #img를 net에 넣는 방법?\n",
        "    ##################승준씨 여기부터요###############################\n",
        "\n",
        "    #tensor -> np (train)\n",
        "    print(\"\\nTensor to np\")\n",
        "    X = np.empty((0, 4), dtype=int)\n",
        "    Y = np.empty((0,4),dtype=int)\n",
        "    for data in trainloader:\n",
        "      images, labels = data\n",
        "      outputs = net(images)\n",
        "      X = np.append(X,outputs.detach().numpy())\n",
        "      Y = np.append(Y,labels.numpy())\n",
        "    X = np.reshape(X,(1281,5)) #1281개 5개tensor\n",
        "    Y = np.reshape(Y,(1281,1)) #1281개 1개label\n",
        "    # print(\"Image size\",images.shape)\n",
        "    #np knn\n",
        "    reg = KNeighborsClassifier(n_neighbors=4)\n",
        "    reg.fit(X,Y)\n",
        "    l = reg.kneighbors([[0,0,0,0,0]],n_neighbors=4,return_distance=False) #이미지 입력부분 (np)\n",
        "    l.sort()\n",
        "    for i in l:\n",
        "      temp = np.empty((0,4),dtype=int)\n",
        "      temp = np.append(temp, X[i])\n",
        "    temp = np.reshape(temp,(4,5)) #4개 5개tensor(np)\n",
        "    # print(temp) #가장 가까운 이미지 4개 출력(np)\n",
        "\n",
        "    #np -> tensor \n",
        "    # result = torch.tensor(temp)\n",
        "    # print(result)\n",
        "\n",
        "    dataiter = iter(trainloader)\n",
        "    print(len(dataiter))\n",
        "    count = 0\n",
        "    print(l)\n",
        "    print(l[0][0])\n",
        "    index=0\n",
        "    \n",
        "    images = torch.empty(4,1,224,224)\n",
        "    \n",
        "    while(index<4):\n",
        "      if count < l[0][index]:\n",
        "        img=dataiter.next()\n",
        "        count+=4\n",
        "      else:\n",
        "        print(\"find!\")\n",
        "        #l[0][index]-count 한 값을 인덱스로 dataiter에서 출력\n",
        "        print(img[0][l[0][index]-count][0])\n",
        "        images[index][0] = img[0][l[0][index]-count][0]\n",
        "        dataiter.next()\n",
        "        count+=4\n",
        "        index+=1\n",
        "    #이미지 출력\n",
        "    imshow(torchvision.utils.make_grid(images))\n"
      ],
      "execution_count": null,
      "outputs": [
        {
          "output_type": "stream",
          "text": [
            "--Train Images--\n",
            "Num of All Images:  1281\n",
            "cuda 로 학습\n",
            "\n",
            "Tensor to np\n"
          ],
          "name": "stdout"
        },
        {
          "output_type": "stream",
          "text": [
            "/usr/local/lib/python3.7/dist-packages/ipykernel_launcher.py:136: DataConversionWarning: A column-vector y was passed when a 1d array was expected. Please change the shape of y to (n_samples, ), for example using ravel().\n"
          ],
          "name": "stderr"
        },
        {
          "output_type": "stream",
          "text": [
            "321\n",
            "[[  47  181  550 1032]]\n",
            "47\n",
            "find!\n",
            "tensor([[0.6078, 0.6078, 0.6078,  ..., 0.6078, 0.6078, 0.6078],\n",
            "        [0.6078, 0.6078, 0.6078,  ..., 0.6078, 0.6078, 0.6078],\n",
            "        [0.6078, 0.6078, 0.6078,  ..., 0.6078, 0.6078, 0.6078],\n",
            "        ...,\n",
            "        [0.6000, 0.6000, 0.6000,  ..., 0.6078, 0.6078, 0.6078],\n",
            "        [0.6000, 0.6000, 0.6000,  ..., 0.6078, 0.6078, 0.6078],\n",
            "        [0.6000, 0.6000, 0.6000,  ..., 0.6078, 0.6078, 0.6078]])\n",
            "find!\n",
            "tensor([[ 0.1529,  0.1529,  0.1608,  ..., -0.1529, -0.1608, -0.1608],\n",
            "        [ 0.0980,  0.1059,  0.1137,  ..., -0.1765, -0.1843, -0.1843],\n",
            "        [-0.0353, -0.0196,  0.0039,  ..., -0.2314, -0.2392, -0.2392],\n",
            "        ...,\n",
            "        [-0.2314, -0.2392, -0.2471,  ..., -0.1529, -0.0980, -0.0745],\n",
            "        [-0.1294, -0.1373, -0.1529,  ..., -0.0980, -0.0431, -0.0196],\n",
            "        [-0.0902, -0.0980, -0.1137,  ..., -0.0667, -0.0118,  0.0118]])\n",
            "find!\n",
            "tensor([[-0.2784, -0.2627, -0.2314,  ..., -0.7333, -0.7020, -0.6863],\n",
            "        [-0.3176, -0.3020, -0.2706,  ..., -0.7412, -0.7098, -0.7020],\n",
            "        [-0.4118, -0.4039, -0.3725,  ..., -0.7725, -0.7412, -0.7333],\n",
            "        ...,\n",
            "        [-0.7647, -0.7647, -0.7647,  ..., -0.8980, -0.8980, -0.8980],\n",
            "        [-0.7647, -0.7647, -0.7725,  ..., -0.8980, -0.8980, -0.8980],\n",
            "        [-0.7647, -0.7647, -0.7725,  ..., -0.8980, -0.8980, -0.8980]])\n",
            "find!\n",
            "tensor([[1.0000, 1.0000, 1.0000,  ..., 1.0000, 1.0000, 1.0000],\n",
            "        [0.9922, 0.9922, 0.9922,  ..., 0.9922, 0.9922, 0.9922],\n",
            "        [0.9922, 0.9922, 0.9922,  ..., 0.9922, 0.9922, 0.9922],\n",
            "        ...,\n",
            "        [0.9922, 0.9922, 0.9922,  ..., 0.9922, 0.9922, 0.9922],\n",
            "        [0.9922, 0.9922, 0.9922,  ..., 0.9922, 0.9922, 0.9922],\n",
            "        [1.0000, 1.0000, 1.0000,  ..., 1.0000, 1.0000, 1.0000]])\n"
          ],
          "name": "stdout"
        },
        {
          "output_type": "display_data",
          "data": {
            "image/png": "[encoded data removed]",
            "text/plain": [
              "<Figure size 432x288 with 1 Axes>"
            ]
          },
          "metadata": {
            "tags": [],
            "needs_background": "light"
          }
        }
      ]
    }
  ]
}