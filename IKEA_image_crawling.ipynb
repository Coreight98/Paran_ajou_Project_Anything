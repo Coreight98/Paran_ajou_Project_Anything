{
  "nbformat": 4,
  "nbformat_minor": 0,
  "metadata": {
    "colab": {
      "name": "IKEA_image_crawling.ipynb",
      "provenance": [],
      "authorship_tag": "ABX9TyMldjh0n2HlsLqZKXyQazqr",
      "include_colab_link": true
    },
    "kernelspec": {
      "name": "python3",
      "display_name": "Python 3"
    },
    "language_info": {
      "name": "python"
    }
  },
  "cells": [
    {
      "cell_type": "markdown",
      "metadata": {
        "id": "view-in-github",
        "colab_type": "text"
      },
      "source": [
        "<a href=\"https://colab.research.google.com/github/Coreight98/Paran_ajou_Project_Anything/blob/main/IKEA_image_crawling.ipynb\" target=\"_parent\"><img src=\"https://colab.research.google.com/assets/colab-badge.svg\" alt=\"Open In Colab\"/></a>"
      ]
    },
    {
      "cell_type": "code",
      "metadata": {
        "id": "3Opy5n0ElqpV"
      },
      "source": [
        "from selenium import webdriver\n",
        "from selenium.webdriver.common.keys import Keys\n",
        "import time\n",
        "from bs4 import BeautifulSoup\n",
        "from urllib.request import urlopen\n",
        "import urllib.request\n",
        "\n",
        "class_1 = {}\n",
        "response = urlopen('https://www.ikea.com/kr/ko/cat/jepum-products/')\n",
        "soup = BeautifulSoup(response, 'html.parser')\n",
        "categorys = soup.find_all(class_='vn-link vn-nav__link')\n",
        "t_count = 0\n",
        "for category in categorys:\n",
        "    if t_count == 2:\n",
        "        break\n",
        "    temp = []\n",
        "    name = ''\n",
        "    na = category.get_text().split('\\n')[1].split('/')\n",
        "    for _ in na:\n",
        "        name += _ + ' '\n",
        "    print(name)\n",
        "    link = category.attrs['href']\n",
        "    dr = webdriver.Chrome()\n",
        "    dr.get(link)\n",
        "    while True:\n",
        "        try:\n",
        "            dr.find_element_by_class_name('catalog-bottom-container').find_element_by_tag_name('a').click()\n",
        "            time.sleep(2)\n",
        "        except:\n",
        "            break\n",
        "    driver = dr.find_element_by_class_name('plp-product-list__products').find_elements_by_class_name('range-revamp-product-compact')\n",
        "    for _ in driver:\n",
        "        temp.append(_.find_element_by_tag_name('a').get_attribute('href'))\n",
        "    class_1[name] = temp\n",
        "    dr.close()\n",
        "    #print(class_1)\n",
        "    t_count +=1\n",
        "for _ in class_1.keys():\n",
        "    count = 0\n",
        "    for i in class_1[_]:\n",
        "        dr = webdriver.Chrome()\n",
        "        dr.get(i)\n",
        "        driver = dr.find_elements_by_class_name('range-revamp-product-styles__item')\n",
        "        if len(driver) == 0:\n",
        "            du = dr.find_element_by_class_name('range-revamp-media-grid__grid ')\n",
        "            cat = du.find_elements_by_class_name('range-revamp-aspect-ratio-image__image')\n",
        "            for w in cat:\n",
        "                try:\n",
        "                    print('dww')\n",
        "                    time.sleep(2)\n",
        "                    imgUrl = w.get_attribute(\"src\")\n",
        "                    urllib.request.urlretrieve(imgUrl, _ + str(count) + \".jpg\")\n",
        "                    count = count + 1\n",
        "                except:\n",
        "                    continue\n",
        "        else:\n",
        "            for j in driver:\n",
        "                j.click()\n",
        "                du = dr.find_element_by_class_name('range-revamp-media-grid__grid ')\n",
        "                cat = du.find_elements_by_class_name('range-revamp-aspect-ratio-image__image')\n",
        "                for w in cat:\n",
        "                    try:\n",
        "                        print('dww')\n",
        "                        time.sleep(2)\n",
        "                        imgUrl = w.get_attribute(\"src\")\n",
        "                        urllib.request.urlretrieve(imgUrl, _[0] + str(count) + \".jpg\")\n",
        "                        count = count + 1\n",
        "                    except:\n",
        "                        continue\n",
        "        dr.close()"
      ],
      "execution_count": null,
      "outputs": []
    }
  ]
}