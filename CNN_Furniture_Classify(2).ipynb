{
  "nbformat": 4,
  "nbformat_minor": 0,
  "metadata": {
    "colab": {
      "name": "CNN_Furniture_Classify.ipynb",
      "provenance": [],
      "collapsed_sections": [],
      "authorship_tag": "ABX9TyO6U1tg3Fkq01lcgP1q2+WW",
      "include_colab_link": true
    },
    "kernelspec": {
      "name": "python3",
      "display_name": "Python 3"
    },
    "accelerator": "GPU"
  },
  "cells": [
    {
      "cell_type": "markdown",
      "metadata": {
        "id": "view-in-github",
        "colab_type": "text"
      },
      "source": [
        "<a href=\"https://colab.research.google.com/github/Coreight98/Paran_ajou_Project_Anything/blob/main/CNN_Furniture_Classify(2).ipynb\" target=\"_parent\"><img src=\"https://colab.research.google.com/assets/colab-badge.svg\" alt=\"Open In Colab\"/></a>"
      ]
    },
    {
      "cell_type": "code",
      "metadata": {
        "id": "NBfxdTLbVPAc"
      },
      "source": [
        "import torch\r\n",
        "import torchvision\r\n",
        "import torchvision.transforms as transforms\r\n",
        "from torch.utils.data import Dataset, DataLoader\r\n",
        "import torch.nn as nn\r\n",
        "import torch.nn.functional as F\r\n",
        "import torch.optim as optim\r\n",
        "import matplotlib.pyplot as plt\r\n",
        "import numpy as np\r\n",
        "import os\r\n",
        "from PIL import Image\r\n",
        "import time\r\n",
        "\r\n",
        "\r\n",
        "\r\n",
        "\r\n"
      ],
      "execution_count": 2,
      "outputs": []
    },
    {
      "cell_type": "code",
      "metadata": {
        "id": "ZdYW_4dSZ7Ih",
        "colab": {
          "base_uri": "https://localhost:8080/",
          "height": 352
        },
        "outputId": "b3dcac72-acd1-42af-e6d5-24aa2e799407"
      },
      "source": [
        "\r\n",
        "# train_location = './drive/MyDrive/data/img/train/'\r\n",
        "# test_location = './drive/MyDrive/data/img/val/'\r\n",
        "\r\n",
        "train_location = './drive/MyDrive/data/Furniture/train/'\r\n",
        "test_location = './drive/MyDrive/data/Furniture/val/'\r\n",
        "\r\n",
        "class CNN(torch.nn.Module):\r\n",
        "\r\n",
        "    def __init__(self):\r\n",
        "        super(CNN, self).__init__()\r\n",
        "        # 첫번째층\r\n",
        "        self.layer1 = torch.nn.Sequential(\r\n",
        "            torch.nn.Conv2d(1, 8, kernel_size=3,stride=1, padding=1),\r\n",
        "            torch.nn.ReLU(),\r\n",
        "            torch.nn.MaxPool2d(kernel_size=2, stride=2))\r\n",
        "\r\n",
        "        # 두번째층\r\n",
        "        self.layer2 = torch.nn.Sequential(\r\n",
        "            torch.nn.Conv2d(8, 16, kernel_size=3,stride=1, padding=1),\r\n",
        "            torch.nn.ReLU(),\r\n",
        "            torch.nn.MaxPool2d(kernel_size=2, stride=2))\r\n",
        "\r\n",
        "        # 전결합층 \r\n",
        "        self.fc = torch.nn.Linear(50176, 5, bias=True)\r\n",
        "\r\n",
        "        # 전결합층 한정으로 가중치 초기화\r\n",
        "        torch.nn.init.xavier_uniform_(self.fc.weight)\r\n",
        "\r\n",
        "    def forward(self, x):\r\n",
        "        out = self.layer1(x)\r\n",
        "        out = self.layer2(out)\r\n",
        "        out = out.view(out.size(0), -1)   # 전결합층을 위해서 Flatten\r\n",
        "        out = self.fc(out)\r\n",
        "        return out\r\n",
        "\r\n",
        "class FurnitureDataset():\r\n",
        "    def __init__(self, image, class_to_int, mode, transforms):\r\n",
        "        super().__init__()\r\n",
        "        self.image = image\r\n",
        "        self.class_to_int = class_to_int\r\n",
        "        self.mode = mode\r\n",
        "        self.transforms = transforms\r\n",
        "\r\n",
        "    def __getitem__(self, index):\r\n",
        "        image_name = self.image[index]\r\n",
        "        image = Image.open(train_location + image_name)\r\n",
        "        image = image.resize((224,224))\r\n",
        "\r\n",
        "        if self.mode == 'train' :\r\n",
        "            #레이블 입력\r\n",
        "            label = self.class_to_int[image_name.split('.')[0]]\r\n",
        "            label = torch.tensor(label,dtype=torch.long)\r\n",
        "            #이미지 변형 적용\r\n",
        "            image = self.transforms(image)\r\n",
        "            return image, label\r\n",
        "        elif self.mode == 'test':\r\n",
        "          #레이블 입력\r\n",
        "            label = self.class_to_int[image_name.split('.')[0]]\r\n",
        "            label = torch.tensor(label,dtype=torch.long)\r\n",
        "            #이미지 변형 적용용\r\n",
        "            image = self.transforms(image)\r\n",
        "            return image, label\r\n",
        "\r\n",
        "    def __len__(self):\r\n",
        "        return len(self.image)\r\n",
        "\r\n",
        "def imshow(img):\r\n",
        "    img = img / 2 + 0.5\r\n",
        "    npimg = img.numpy()\r\n",
        "    plt.imshow(np.transpose(npimg, (1, 2, 0)))\r\n",
        "    plt.show()\r\n",
        "\r\n",
        "if __name__ == '__main__':\r\n",
        "    #데이터 셋 불러오고 정규화\r\n",
        "    transform = transforms.Compose(\r\n",
        "        [transforms.Grayscale(num_output_channels=1),\r\n",
        "         transforms.ToTensor(),\r\n",
        "          transforms.Normalize((0.5),(0.5))\r\n",
        "          ]\r\n",
        "    )\r\n",
        "\r\n",
        "    train_images = os.listdir(train_location)\r\n",
        "    test_images = os.listdir(test_location)\r\n",
        "    print(\"--Train Images--\")\r\n",
        "    print(\"Num of All Images: \", len(train_images))\r\n",
        "\r\n",
        "    beds_list = [img for img in train_images if img.split(\".\")[0] == \"bed\"]\r\n",
        "    chairs_list = [img for img in train_images if img.split(\".\")[0] == \"chair\"]\r\n",
        "    nightstands_list = [img for img in train_images if img.split(\".\")[0] == \"nightstand\"]\r\n",
        "    sofas_list = [img for img in train_images if img.split(\".\")[0] == \"sofa\"]\r\n",
        "    tables_list = [img for img in train_images if img.split(\".\")[0] == \"table\"]\r\n",
        "    print(\"Num of Beds Images: \", len(beds_list))\r\n",
        "    print(\"Num of chairs Images: \", len(chairs_list))\r\n",
        "    print(\"Num of nightstands Images: \", len(nightstands_list))\r\n",
        "    print(\"Num of sofas Images: \", len(sofas_list))\r\n",
        "    print(\"Num of tables Images: \", len(tables_list))\r\n",
        "    print(\"--Test Images--\")\r\n",
        "    print(\"Num of Images: \", len(test_images))\r\n",
        "\r\n",
        "    # 레이블 구분\r\n",
        "    class_to_int = {\"bed\": 0, \"chair\": 1, \"nightstand\": 2, \"sofa\": 3, \"table\": 4}\r\n",
        "    int_to_class = {0: \"bed\", 1: \"chair\", 2: \"nightstand\", 3: \"sofa\", 4: \"table\"}\r\n",
        "    classes = ['bed', 'chair', 'nightstand', 'sofa', 'table']\r\n",
        "\r\n",
        "    # 데이터 셋 생성\r\n",
        "    train_dataset = FurnitureDataset(train_images, class_to_int, mode='train', transforms=transform)\r\n",
        "    trainloader = torch.utils.data.DataLoader(train_dataset, batch_size=4, shuffle=True, num_workers=0)\r\n",
        "\r\n",
        "    test_dataset = FurnitureDataset(test_images, class_to_int, mode='test', transforms=transform)\r\n",
        "    testloader = torch.utils.data.DataLoader(test_dataset, batch_size=4, shuffle=True, num_workers=0)\r\n",
        "\r\n",
        "    ## 로드할때 여기부터 test전까지 주석처리 ( PATH 정의 빼고)\r\n",
        "    # net = CNN()\r\n",
        "\r\n",
        "    # criterion = nn.CrossEntropyLoss()\r\n",
        "    # optimizer = optim.SGD(net.parameters(), lr=0.001, momentum=0.9)\r\n",
        "    # device = 'cuda'\r\n",
        "    # # device = 'cuda' if torch.cuda.is_available() else 'cpu'\r\n",
        "    # print (device,\"로 학습\")\r\n",
        "\r\n",
        "    # # 신경망 학습하기\r\n",
        "    # for epoch in range(2):\r\n",
        "    #     running_loss = 0.0\r\n",
        "    #     for i, data in enumerate(trainloader,0):\r\n",
        "    #         inputs, labels = data  # data입력\r\n",
        "    #         optimizer.zero_grad()  # gradient 매개변수를 0으로 만듬\r\n",
        "    #         # 순전파 + 역전파 + 최적화\r\n",
        "    #         outputs = net(inputs)\r\n",
        "    #         loss = criterion(outputs, labels)\r\n",
        "    #         loss.backward()\r\n",
        "    #         optimizer.step()\r\n",
        "    #         # 통계출력\r\n",
        "    #         running_loss += loss.item()\r\n",
        "    #         if i % 200 == 199:\r\n",
        "    #             print('[%d, %5d] loss: %.3f' % (epoch + 1, i + 1, running_loss / 2000))\r\n",
        "    #             running_loss = 0.0\r\n",
        "    # print('Finished Training')\r\n",
        "    PATH = './cifar_net.pth'\r\n",
        "    # torch.save(net, PATH)\r\n",
        " \r\n",
        "  \r\n",
        "#############################################test########################################\r\n",
        "    #시험용 데이터로 신경망 검사하기\r\n",
        "    dataiter = iter(testloader)\r\n",
        "    images, labels = dataiter.next()\r\n",
        "\r\n",
        "    #이미지 출력\r\n",
        "    imshow(torchvision.utils.make_grid(images))\r\n",
        "    print('GroundTruth: ', ' '.join('%5s' % classes[labels[j]] for j in range(4)))\r\n",
        "\r\n",
        "    \r\n",
        "    net.load_state_dict(torch.load(PATH))\r\n",
        "    #로드할때 윗줄 주석처리하고 밑 두줄 주석제거\r\n",
        "    # net = torch.load(PATH)\r\n",
        "    # net.eval()\r\n",
        "    outputs = net(images)\r\n",
        "\r\n",
        "    _, predicted =torch.max(outputs, 1)\r\n",
        "    print('Pridicted: ', ' '.join('%5s' % classes[predicted[j]] for j in range(4)))\r\n",
        "    # 전체 데이터 셋에 대한 결과 확인\r\n",
        "    correct = 0\r\n",
        "    total = 0\r\n",
        "    with torch.no_grad():\r\n",
        "        for data in testloader:\r\n",
        "            images, labels = data\r\n",
        "            outputs = net(images)\r\n",
        "            _, predicted = torch.max(outputs.data, 1)\r\n",
        "            total += labels.size(0)\r\n",
        "            correct += (predicted == labels).sum().item()\r\n",
        "    print('Accuracy of the network on the 423 test images: %d %%' % (100*correct/total))"
      ],
      "execution_count": 4,
      "outputs": [
        {
          "output_type": "stream",
          "text": [
            "--Train Images--\n",
            "Num of All Images:  950\n",
            "Num of Beds Images:  190\n",
            "Num of chairs Images:  190\n",
            "Num of nightstands Images:  190\n",
            "Num of sofas Images:  190\n",
            "Num of tables Images:  190\n",
            "--Test Images--\n",
            "Num of Images:  50\n"
          ],
          "name": "stdout"
        },
        {
          "output_type": "display_data",
          "data": {
            "image/png": "[encoded data removed]",
            "text/plain": [
              "<Figure size 432x288 with 1 Axes>"
            ]
          },
          "metadata": {
            "tags": [],
            "needs_background": "light"
          }
        },
        {
          "output_type": "stream",
          "text": [
            "GroundTruth:  chair nightstand  sofa nightstand\n",
            "Pridicted:  table nightstand  sofa nightstand\n",
            "Accuracy of the network on the 423 test images: 82 %\n"
          ],
          "name": "stdout"
        }
      ]
    },
    {
      "cell_type": "code",
      "metadata": {
        "id": "ir-OlF4Lzwbc",
        "colab": {
          "base_uri": "https://localhost:8080/"
        },
        "outputId": "ebd2831e-4296-4a52-c80d-ab53b04a8fb6"
      },
      "source": [
        "from google.colab import drive\n",
        "drive.mount('/content/drive')"
      ],
      "execution_count": 1,
      "outputs": [
        {
          "output_type": "stream",
          "text": [
            "Mounted at /content/drive\n"
          ],
          "name": "stdout"
        }
      ]
    }
  ]
}