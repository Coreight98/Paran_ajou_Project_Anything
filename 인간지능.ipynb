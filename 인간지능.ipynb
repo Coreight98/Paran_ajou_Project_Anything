{
  "nbformat": 4,
  "nbformat_minor": 0,
  "metadata": {
    "accelerator": "GPU",
    "colab": {
      "name": "인간지능.ipynb",
      "provenance": [],
      "authorship_tag": "ABX9TyMgFzimp/C/fLp+In997ekN",
      "include_colab_link": true
    },
    "kernelspec": {
      "display_name": "Python 3",
      "name": "python3"
    },
    "language_info": {
      "name": "python"
    }
  },
  "cells": [
    {
      "cell_type": "markdown",
      "metadata": {
        "id": "view-in-github",
        "colab_type": "text"
      },
      "source": [
        "<a href=\"https://colab.research.google.com/github/Coreight98/Paran_ajou_Project_Anything/blob/main/%EC%9D%B8%EA%B0%84%EC%A7%80%EB%8A%A5.ipynb\" target=\"_parent\"><img src=\"https://colab.research.google.com/assets/colab-badge.svg\" alt=\"Open In Colab\"/></a>"
      ]
    },
    {
      "cell_type": "code",
      "metadata": {
        "colab": {
          "base_uri": "https://localhost:8080/"
        },
        "id": "ZHm3i95oDaKT",
        "outputId": "ee39dc88-c7d4-4be4-8c64-7a4c7279bde8"
      },
      "source": [
        "from google.colab import drive\n",
        "drive.mount('/content/drive')"
      ],
      "execution_count": 1,
      "outputs": [
        {
          "output_type": "stream",
          "text": [
            "Mounted at /content/drive\n"
          ],
          "name": "stdout"
        }
      ]
    },
    {
      "cell_type": "code",
      "metadata": {
        "id": "eFV3MdPCDkQQ"
      },
      "source": [
        "import torch\n",
        "import torchvision\n",
        "import torchvision.transforms as transforms\n",
        "from torch.utils.data import Dataset, DataLoader\n",
        "import torch.nn as nn\n",
        "import torch.nn.functional as F\n",
        "import torch.optim as optim\n",
        "import matplotlib.pyplot as plt\n",
        "import numpy as np\n",
        "import os\n",
        "from PIL import Image\n",
        "import PIL\n",
        "import time\n",
        "from sklearn.neighbors import KNeighborsClassifier"
      ],
      "execution_count": 36,
      "outputs": []
    },
    {
      "cell_type": "code",
      "metadata": {
        "colab": {
          "base_uri": "https://localhost:8080/",
          "height": 786
        },
        "id": "QGrQwV-4DlEw",
        "outputId": "49bbd821-b955-42fc-9f96-3a00c99cb4bd"
      },
      "source": [
        "train_location = './drive/MyDrive/data/img/train/'\n",
        "# test_location = './drive/MyDrive/data/img/val/'\n",
        "\n",
        "X = np.empty((0, 4), dtype=int)\n",
        "\n",
        "class CNN(torch.nn.Module):\n",
        "\n",
        "    def __init__(self):\n",
        "        super(CNN, self).__init__()\n",
        "        # 첫번째층\n",
        "        self.layer1 = torch.nn.Sequential(\n",
        "            torch.nn.Conv2d(1, 8, kernel_size=2,stride=1, padding=1),\n",
        "            torch.nn.ReLU(),\n",
        "            torch.nn.MaxPool2d(kernel_size=2, stride=1))\n",
        "\n",
        "        # 두번째층\n",
        "        self.layer2 = torch.nn.Sequential(\n",
        "            torch.nn.Conv2d(8, 16, kernel_size=2,stride=1, padding=1),\n",
        "            torch.nn.ReLU(),\n",
        "            torch.nn.MaxPool2d(kernel_size=2, stride=1))\n",
        "        \n",
        "        # 세번째층\n",
        "        self.layer3 = torch.nn.Sequential(\n",
        "            torch.nn.Conv2d(16, 24, kernel_size=2,stride=1, padding=1),\n",
        "            torch.nn.ReLU(),\n",
        "            torch.nn.MaxPool2d(kernel_size=2, stride=1))\n",
        "\n",
        "        # 전결합층 \n",
        "        self.fc = torch.nn.Linear(1204224, 64, bias=True)\n",
        "\n",
        "        # 전결합층 한정으로 가중치 초기화\n",
        "        torch.nn.init.xavier_uniform_(self.fc.weight)\n",
        "\n",
        "    def forward(self, x):\n",
        "        global X\n",
        "        out = self.layer1(x)\n",
        "        out = self.layer2(out)\n",
        "        out = self.layer3(out)\n",
        "        out = out.view(out.size(0), -1)   # 전결합층을 위해서 Flatten\n",
        "        out = self.fc(out)\n",
        "        X = np.append(X,out.detach().numpy())\n",
        "        return out\n",
        "\n",
        "class FurnitureDataset():\n",
        "    def __init__(self, image, class_to_int, mode, transforms):\n",
        "        super().__init__()\n",
        "        self.image = image\n",
        "        self.class_to_int = class_to_int\n",
        "        self.mode = mode\n",
        "        self.transforms = transforms\n",
        "\n",
        "    def __getitem__(self, index):\n",
        "        image_name = self.image[index]\n",
        "        image = Image.open(train_location + image_name)\n",
        "        image = image.resize((224,224))\n",
        "\n",
        "        \n",
        "        #레이블 입력\n",
        "        label = self.class_to_int[image_name.split('.')[0]]\n",
        "        label = torch.tensor(label,dtype=torch.long)\n",
        "        #이미지 변형 적용\n",
        "        image = self.transforms(image)\n",
        "        return image, label\n",
        "       \n",
        "\n",
        "    def __len__(self):\n",
        "        return len(self.image)\n",
        "\n",
        "def imshow(img):\n",
        "    img = img / 2 + 0.5\n",
        "    npimg = img.numpy()\n",
        "    plt.imshow(np.transpose(npimg, (1, 2, 0)))\n",
        "    plt.show()\n",
        "\n",
        "if __name__ == '__main__':\n",
        "    #데이터 셋 불러오고 정규화\n",
        "    transform = transforms.Compose(\n",
        "        [transforms.Grayscale(num_output_channels=1),\n",
        "         transforms.ToTensor(),\n",
        "          transforms.Normalize((0.5),(0.5))\n",
        "          ]\n",
        "    )\n",
        "    \n",
        "    train_images = os.listdir(train_location)\n",
        "    # test_images = os.listdir(test_location)\n",
        "    print(\"--Train Images--\")\n",
        "    print(\"Num of All Images: \", len(train_images))\n",
        "    beds_list = [img for img in train_images if img.split(\".\")[0] == \"bed\"]\n",
        "    chairs_list = [img for img in train_images if img.split(\".\")[0] == \"chair\"]\n",
        "    sofas_list = [img for img in train_images if img.split(\".\")[0] == \"sofa\"]\n",
        "    swivelchair_list = [img for img in train_images if img.split(\".\")[0] == \"swivelchair\"]\n",
        "    tables_list = [img for img in train_images if img.split(\".\")[0] == \"table\"]\n",
        "    print(\"Num of Beds Images: \", len(beds_list))\n",
        "    print(\"Num of chairs Images: \", len(chairs_list))\n",
        "    print(\"Num of sofas Images: \", len(sofas_list))\n",
        "    print(\"Num of swivelchairs Images: \", len(swivelchair_list))\n",
        "    print(\"Num of tables Images: \", len(tables_list))\n",
        "\n",
        "    # 레이블 구분\n",
        "    class_to_int = {\"bed\": 0, \"chair\": 1, \"swivelchair\": 2, \"sofa\": 3, \"table\": 4}\n",
        "    int_to_class = {0: \"bed\", 1: \"chair\", 2: \"swivelchair\", 3: \"sofa\", 4: \"table\"}\n",
        "    classes = ['bed', 'chair', 'swivelchair', 'sofa', 'table']\n",
        "\n",
        "    # 데이터 셋 생성\n",
        "    train_dataset = FurnitureDataset(train_images, class_to_int, mode='train', transforms=transform)\n",
        "    trainloader = torch.utils.data.DataLoader(train_dataset, batch_size=4, shuffle=False, num_workers=0)\n",
        "    \n",
        "    # net = CNN()\n",
        "    \n",
        "    device = 'cuda' if torch.cuda.is_available() else 'cpu'\n",
        "    print (device,\"로 학습\")\n",
        "\n",
        "    #신경망 학습하기\n",
        "    # for i, data in enumerate(trainloader,0):\n",
        "    #     inputs, labels = data  # data입력\n",
        "    #     outputs = net(inputs)\n",
        "\n",
        "    # np.save('./drive/MyDrive/data/accuracy.npy', X)\n",
        "    # print('Finished Training')\n",
        "    PATH = './drive/MyDrive/data/accuracy_net.pth'\n",
        "    # torch.save(net, PATH)\n",
        "\n",
        "\n",
        "######################################################################\n",
        "\n",
        "    net = torch.load(PATH)\n",
        "    net.eval()\n",
        "    X = np.load('./drive/MyDrive/data/accuracy.npy')\n",
        "    # # print(X)\n",
        "    img=PIL.Image.open('./drive/MyDrive/data/img/train/sofa.1.jpg')\n",
        "    input_label = class_to_int[\"sofa\"]\n",
        "    img = img.resize((224,224))\n",
        "    emp = torch.empty(1,1,224,224)\n",
        "    img_t =transform(img)\n",
        "    emp[0] = img_t\n",
        "    input = net(emp)\n",
        "\n",
        "    X = np.reshape(X,(4025,512)) #1281개 5개tensor\n",
        "    Y = np.ones((4025,1),dtype=int)\n",
        "\n",
        "    reg = KNeighborsClassifier(n_neighbors=10)\n",
        "    reg.fit(X,Y)\n",
        "    l = reg.kneighbors(input.detach().numpy(),n_neighbors=10,return_distance=False)\n",
        "    \n",
        "    l.sort()\n",
        "    print(l)\n",
        "\n",
        "    for i in l:\n",
        "      temp = np.empty((0,10),dtype=int)\n",
        "      temp = np.append(temp, X[i])\n",
        "    temp = np.reshape(temp,(10,512))\n",
        "\n",
        "    dataiter = iter(trainloader)\n",
        "    # img=dataiter.next()\n",
        "    # print(img.tensor.item<t>())\n",
        "    count = 0\n",
        "    \n",
        "    index=0\n",
        "    \n",
        "    images = torch.empty(10,1,224,224)\n",
        "\n",
        "    correct=0\n",
        "    while(index<10):\n",
        "      if count < l[0][index]:\n",
        "        imgg=img\n",
        "        img=dataiter.next()\n",
        "        count+=4\n",
        "      else:\n",
        "        # print(\"find!\")\n",
        "        #l[0][index]-count 한 값을 인덱스로 dataiter에서 출력\n",
        "        k=count-l[0][index]\n",
        "        if k == 0:\n",
        "          images[index][0] = img[0][k][0]\n",
        "          label=classes[img[1][k].item()]\n",
        "          print(label)\n",
        "          if img[1][k].item()==input_label:\n",
        "            correct+=1\n",
        "        else:\n",
        "          images[index][0] = imgg[0][4-k][0]\n",
        "          label=classes[img[1][4-k].item()]\n",
        "          print(label)\n",
        "          if img[1][4-k].item()==input_label:\n",
        "            correct+=1\n",
        "        count+=4\n",
        "        index+=1\n",
        "        if index != 4:\n",
        "          dataiter.next()\n",
        "    print(\"accuracy : \",correct/10)\n",
        "    #이미지 출력\n",
        "    imshow(torchvision.utils.make_grid(images))\n",
        "\n",
        "    from IPython.display import Image \n",
        "    img=Image('./drive/MyDrive/data/img/train/sofa.1.jpg')\n",
        "    display(img)"
      ],
      "execution_count": 37,
      "outputs": [
        {
          "output_type": "stream",
          "text": [
            "--Train Images--\n",
            "Num of All Images:  4024\n",
            "Num of Beds Images:  900\n",
            "Num of chairs Images:  900\n",
            "Num of sofas Images:  900\n",
            "Num of swivelchairs Images:  900\n",
            "Num of tables Images:  424\n",
            "cuda 로 학습\n"
          ],
          "name": "stdout"
        },
        {
          "output_type": "stream",
          "text": [
            "/usr/local/lib/python3.7/dist-packages/ipykernel_launcher.py:142: DataConversionWarning: A column-vector y was passed when a 1d array was expected. Please change the shape of y to (n_samples, ), for example using ravel().\n"
          ],
          "name": "stderr"
        },
        {
          "output_type": "stream",
          "text": [
            "[[ 547 1655 1950 2029 2229 2434 2617 2728 2776 4024]]\n",
            "swivelchair\n",
            "sofa\n",
            "swivelchair\n",
            "chair\n",
            "chair\n",
            "chair\n",
            "chair\n",
            "chair\n",
            "chair\n",
            "bed\n",
            "accuracy :  0.1\n"
          ],
          "name": "stdout"
        },
        {
          "output_type": "display_data",
          "data": {
            "image/png": "[encoded data removed]",
            "text/plain": [
              "<Figure size 432x288 with 1 Axes>"
            ]
          },
          "metadata": {
            "tags": [],
            "needs_background": "light"
          }
        },
        {
          "output_type": "display_data",
          "data": {
            "image/jpeg": "[encoded data removed]",
            "text/plain": [
              "<IPython.core.display.Image object>"
            ]
          },
          "metadata": {
            "tags": []
          }
        }
      ]
    }
  ]
}